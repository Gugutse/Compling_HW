{
 "cells": [
  {
   "cell_type": "code",
   "execution_count": 19,
   "metadata": {},
   "outputs": [],
   "source": [
    "import json, os\n",
    "import pandas as pd\n",
    "from nltk.corpus import stopwords\n",
    "import numpy as np\n",
    "from pymorphy2 import MorphAnalyzer\n",
    "from collections import Counter\n",
    "from sklearn.feature_extraction.text import TfidfVectorizer\n",
    "morph = MorphAnalyzer()\n",
    "stops = set(stopwords.words('russian'))"
   ]
  },
  {
   "cell_type": "code",
   "execution_count": 20,
   "metadata": {},
   "outputs": [],
   "source": [
    "PATH_TO_DATA = '/Users/dariabakshandaeva/Documents/data'"
   ]
  },
  {
   "cell_type": "code",
   "execution_count": 21,
   "metadata": {},
   "outputs": [],
   "source": [
    "files = [os.path.join(PATH_TO_DATA, file) for file in os.listdir(PATH_TO_DATA) if file.endswith('jsonlines')]"
   ]
  },
  {
   "cell_type": "code",
   "execution_count": 22,
   "metadata": {},
   "outputs": [
    {
     "data": {
      "text/html": [
       "<div>\n",
       "<style scoped>\n",
       "    .dataframe tbody tr th:only-of-type {\n",
       "        vertical-align: middle;\n",
       "    }\n",
       "\n",
       "    .dataframe tbody tr th {\n",
       "        vertical-align: top;\n",
       "    }\n",
       "\n",
       "    .dataframe thead th {\n",
       "        text-align: right;\n",
       "    }\n",
       "</style>\n",
       "<table border=\"1\" class=\"dataframe\">\n",
       "  <thead>\n",
       "    <tr style=\"text-align: right;\">\n",
       "      <th></th>\n",
       "      <th>content</th>\n",
       "      <th>keywords</th>\n",
       "      <th>summary</th>\n",
       "      <th>title</th>\n",
       "      <th>url</th>\n",
       "    </tr>\n",
       "  </thead>\n",
       "  <tbody>\n",
       "    <tr>\n",
       "      <th>0</th>\n",
       "      <td>В среду состоялось отложенное заседание Совета...</td>\n",
       "      <td>[школа, образовательные стандарты, литература,...</td>\n",
       "      <td>Глава Минобрнауки считает, что в нездоровом аж...</td>\n",
       "      <td>Ольга Васильева обещала \"НГ\" не перегружать шк...</td>\n",
       "      <td>https://amp.ng.ru/?p=http://www.ng.ru/educatio...</td>\n",
       "    </tr>\n",
       "    <tr>\n",
       "      <th>1</th>\n",
       "      <td>Хорошо, когда красота в глазах смотрящего живе...</td>\n",
       "      <td>[красота, законы]</td>\n",
       "      <td>О живительной пользе укорота при выборе между ...</td>\n",
       "      <td>У красоты собственные закон и воля</td>\n",
       "      <td>https://amp.ng.ru/?p=http://www.ng.ru/style/20...</td>\n",
       "    </tr>\n",
       "    <tr>\n",
       "      <th>2</th>\n",
       "      <td>Когда-то Леонид Юзефович написал книгу о монго...</td>\n",
       "      <td>[юзефович, гражданская война, пепеляев, якутия]</td>\n",
       "      <td>Крепость из тел и призрак независимой Якутии</td>\n",
       "      <td>Апокалиптический бунт</td>\n",
       "      <td>https://amp.ng.ru/?p=http://www.ng.ru/zavisima...</td>\n",
       "    </tr>\n",
       "  </tbody>\n",
       "</table>\n",
       "</div>"
      ],
      "text/plain": [
       "                                             content  \\\n",
       "0  В среду состоялось отложенное заседание Совета...   \n",
       "1  Хорошо, когда красота в глазах смотрящего живе...   \n",
       "2  Когда-то Леонид Юзефович написал книгу о монго...   \n",
       "\n",
       "                                            keywords  \\\n",
       "0  [школа, образовательные стандарты, литература,...   \n",
       "1                                  [красота, законы]   \n",
       "2    [юзефович, гражданская война, пепеляев, якутия]   \n",
       "\n",
       "                                             summary  \\\n",
       "0  Глава Минобрнауки считает, что в нездоровом аж...   \n",
       "1  О живительной пользе укорота при выборе между ...   \n",
       "2       Крепость из тел и призрак независимой Якутии   \n",
       "\n",
       "                                               title  \\\n",
       "0  Ольга Васильева обещала \"НГ\" не перегружать шк...   \n",
       "1                 У красоты собственные закон и воля   \n",
       "2                              Апокалиптический бунт   \n",
       "\n",
       "                                                 url  \n",
       "0  https://amp.ng.ru/?p=http://www.ng.ru/educatio...  \n",
       "1  https://amp.ng.ru/?p=http://www.ng.ru/style/20...  \n",
       "2  https://amp.ng.ru/?p=http://www.ng.ru/zavisima...  "
      ]
     },
     "execution_count": 22,
     "metadata": {},
     "output_type": "execute_result"
    }
   ],
   "source": [
    "data = pd.concat([pd.read_json(file, lines=True) for file in files][:1], axis=0, ignore_index=True)\n",
    "data.head(3)"
   ]
  },
  {
   "cell_type": "markdown",
   "metadata": {},
   "source": [
    "посмотрим, сколько у нас слов в каждой статье и каков средний показатель количества слов по всем статьям, чтобы лучше понимать наши данные"
   ]
  },
  {
   "cell_type": "code",
   "execution_count": 12,
   "metadata": {},
   "outputs": [
    {
     "data": {
      "text/html": [
       "<div>\n",
       "<style scoped>\n",
       "    .dataframe tbody tr th:only-of-type {\n",
       "        vertical-align: middle;\n",
       "    }\n",
       "\n",
       "    .dataframe tbody tr th {\n",
       "        vertical-align: top;\n",
       "    }\n",
       "\n",
       "    .dataframe thead th {\n",
       "        text-align: right;\n",
       "    }\n",
       "</style>\n",
       "<table border=\"1\" class=\"dataframe\">\n",
       "  <thead>\n",
       "    <tr style=\"text-align: right;\">\n",
       "      <th></th>\n",
       "      <th>content</th>\n",
       "      <th>num_word</th>\n",
       "    </tr>\n",
       "  </thead>\n",
       "  <tbody>\n",
       "    <tr>\n",
       "      <th>0</th>\n",
       "      <td>В среду состоялось отложенное заседание Совета...</td>\n",
       "      <td>690</td>\n",
       "    </tr>\n",
       "    <tr>\n",
       "      <th>1</th>\n",
       "      <td>Хорошо, когда красота в глазах смотрящего живе...</td>\n",
       "      <td>1053</td>\n",
       "    </tr>\n",
       "    <tr>\n",
       "      <th>2</th>\n",
       "      <td>Когда-то Леонид Юзефович написал книгу о монго...</td>\n",
       "      <td>743</td>\n",
       "    </tr>\n",
       "    <tr>\n",
       "      <th>3</th>\n",
       "      <td>Гран-При Испании открыло евротур «Формулы-1». ...</td>\n",
       "      <td>1366</td>\n",
       "    </tr>\n",
       "    <tr>\n",
       "      <th>4</th>\n",
       "      <td>Десять лет назад была популярна версия убийств...</td>\n",
       "      <td>2077</td>\n",
       "    </tr>\n",
       "  </tbody>\n",
       "</table>\n",
       "</div>"
      ],
      "text/plain": [
       "                                             content  num_word\n",
       "0  В среду состоялось отложенное заседание Совета...       690\n",
       "1  Хорошо, когда красота в глазах смотрящего живе...      1053\n",
       "2  Когда-то Леонид Юзефович написал книгу о монго...       743\n",
       "3  Гран-При Испании открыло евротур «Формулы-1». ...      1366\n",
       "4  Десять лет назад была популярна версия убийств...      2077"
      ]
     },
     "execution_count": 12,
     "metadata": {},
     "output_type": "execute_result"
    }
   ],
   "source": [
    "data['num_word'] = data['content'].apply(lambda x: len(str(x).split(\" \")))\n",
    "data[['content','num_word']].head()"
   ]
  },
  {
   "cell_type": "code",
   "execution_count": 13,
   "metadata": {},
   "outputs": [
    {
     "data": {
      "text/plain": [
       "count     988.000000\n",
       "mean      856.268219\n",
       "std       637.410093\n",
       "min        20.000000\n",
       "25%       488.000000\n",
       "50%       715.000000\n",
       "75%      1039.000000\n",
       "max      4570.000000\n",
       "Name: num_word, dtype: float64"
      ]
     },
     "execution_count": 13,
     "metadata": {},
     "output_type": "execute_result"
    }
   ],
   "source": [
    "data.num_word.describe()"
   ]
  },
  {
   "cell_type": "markdown",
   "metadata": {},
   "source": [
    "теперь посмотрим, сколько ключевых слов выделяется для каждой статьи"
   ]
  },
  {
   "cell_type": "code",
   "execution_count": 24,
   "metadata": {},
   "outputs": [
    {
     "data": {
      "text/html": [
       "<div>\n",
       "<style scoped>\n",
       "    .dataframe tbody tr th:only-of-type {\n",
       "        vertical-align: middle;\n",
       "    }\n",
       "\n",
       "    .dataframe tbody tr th {\n",
       "        vertical-align: top;\n",
       "    }\n",
       "\n",
       "    .dataframe thead th {\n",
       "        text-align: right;\n",
       "    }\n",
       "</style>\n",
       "<table border=\"1\" class=\"dataframe\">\n",
       "  <thead>\n",
       "    <tr style=\"text-align: right;\">\n",
       "      <th></th>\n",
       "      <th>keywords</th>\n",
       "      <th>num_keyword</th>\n",
       "    </tr>\n",
       "  </thead>\n",
       "  <tbody>\n",
       "    <tr>\n",
       "      <th>0</th>\n",
       "      <td>[школа, образовательные стандарты, литература,...</td>\n",
       "      <td>5</td>\n",
       "    </tr>\n",
       "    <tr>\n",
       "      <th>1</th>\n",
       "      <td>[красота, законы]</td>\n",
       "      <td>2</td>\n",
       "    </tr>\n",
       "    <tr>\n",
       "      <th>2</th>\n",
       "      <td>[юзефович, гражданская война, пепеляев, якутия]</td>\n",
       "      <td>4</td>\n",
       "    </tr>\n",
       "    <tr>\n",
       "      <th>3</th>\n",
       "      <td>[формула1, автоспорт, гонки, испания, квят]</td>\n",
       "      <td>5</td>\n",
       "    </tr>\n",
       "    <tr>\n",
       "      <th>4</th>\n",
       "      <td>[есенин, православие, святая русь, поэзия, год...</td>\n",
       "      <td>9</td>\n",
       "    </tr>\n",
       "  </tbody>\n",
       "</table>\n",
       "</div>"
      ],
      "text/plain": [
       "                                            keywords  num_keyword\n",
       "0  [школа, образовательные стандарты, литература,...            5\n",
       "1                                  [красота, законы]            2\n",
       "2    [юзефович, гражданская война, пепеляев, якутия]            4\n",
       "3        [формула1, автоспорт, гонки, испания, квят]            5\n",
       "4  [есенин, православие, святая русь, поэзия, год...            9"
      ]
     },
     "execution_count": 24,
     "metadata": {},
     "output_type": "execute_result"
    }
   ],
   "source": [
    "data['num_keyword'] = data['keywords'].apply(lambda x: len(x))\n",
    "data[['keywords','num_keyword']].head()"
   ]
  },
  {
   "cell_type": "code",
   "execution_count": 25,
   "metadata": {},
   "outputs": [
    {
     "data": {
      "text/plain": [
       "count    988.000000\n",
       "mean       6.181174\n",
       "std        3.253331\n",
       "min        1.000000\n",
       "25%        4.000000\n",
       "50%        6.000000\n",
       "75%        7.000000\n",
       "max       26.000000\n",
       "Name: num_keyword, dtype: float64"
      ]
     },
     "execution_count": 25,
     "metadata": {},
     "output_type": "execute_result"
    }
   ],
   "source": [
    "data.num_keyword.describe() "
   ]
  },
  {
   "cell_type": "markdown",
   "metadata": {},
   "source": [
    "Заметим, что среднее количество выделенных ключевых слов на каждый текст - 6 (т.е. и нам стоит брать примерно столько слов в качестве ключевых)"
   ]
  },
  {
   "cell_type": "markdown",
   "metadata": {},
   "source": [
    "теперь посмотрим, какие слова чаще всего встречаются - они нам не нужны"
   ]
  },
  {
   "cell_type": "code",
   "execution_count": 28,
   "metadata": {},
   "outputs": [
    {
     "data": {
      "text/plain": [
       "в         29726\n",
       "и         26416\n",
       "на        12903\n",
       "–         11556\n",
       "не        10596\n",
       "что        8917\n",
       "с          8703\n",
       "по         5416\n",
       "В          4193\n",
       "к          4172\n",
       "как        3747\n",
       "а          3459\n",
       "из         3436\n",
       "для        3353\n",
       "о          3178\n",
       "это        2974\n",
       "от         2860\n",
       "за         2818\n",
       "его        2475\n",
       "но         2120\n",
       "у          1950\n",
       "он         1861\n",
       "все        1858\n",
       "же         1778\n",
       "до         1709\n",
       "И          1693\n",
       "уже        1615\n",
       "их         1591\n",
       "только     1580\n",
       "Но         1522\n",
       "dtype: int64"
      ]
     },
     "execution_count": 28,
     "metadata": {},
     "output_type": "execute_result"
    }
   ],
   "source": [
    "word_freq = pd.Series(' '.join(data['content']).split()).value_counts()[:30]\n",
    "freq"
   ]
  },
  {
   "cell_type": "markdown",
   "metadata": {},
   "source": [
    "все они, по-видимому, должны быть в стоп-словах"
   ]
  },
  {
   "cell_type": "code",
   "execution_count": 30,
   "metadata": {},
   "outputs": [
    {
     "data": {
      "text/plain": [
       "портами           1\n",
       "«Росатом».        1\n",
       "«Значительная     1\n",
       "вырубки           1\n",
       "РГО               1\n",
       "пит-стопов,       1\n",
       "сексапильности    1\n",
       "Новгородом\"       1\n",
       "Климкина,         1\n",
       "Кое-кто           1\n",
       "Европе».          1\n",
       "выпускных         1\n",
       "убийству          1\n",
       "«Свинья»          1\n",
       "доказывается,     1\n",
       "завершен,         1\n",
       "кроках            1\n",
       "«мирный»          1\n",
       "старших?          1\n",
       "полпредства       1\n",
       "стране;           1\n",
       "Астраханка»,      1\n",
       "финалиста,        1\n",
       "желающая          1\n",
       "«Гамлете»         1\n",
       "скамьями.         1\n",
       "состязаются       1\n",
       "разительный       1\n",
       "1863–1864         1\n",
       "кумуткан».        1\n",
       "dtype: int64"
      ]
     },
     "execution_count": 30,
     "metadata": {},
     "output_type": "execute_result"
    }
   ],
   "source": [
    "word_freq_min =  pd.Series(' '.join(data \n",
    "         ['content']).split()).value_counts()[-30:]\n",
    "word_freq_min"
   ]
  },
  {
   "cell_type": "markdown",
   "metadata": {},
   "source": [
    "проведем нормализацию "
   ]
  },
  {
   "cell_type": "code",
   "execution_count": 43,
   "metadata": {},
   "outputs": [],
   "source": [
    "from string import punctuation\n",
    "from nltk.corpus import stopwords\n",
    "punct = punctuation+'«»—…“”*№–'\n",
    "stops = set(stopwords.words('russian'))\n",
    "\n",
    "def normalize(text):\n",
    "    \n",
    "    words = [word.strip(punct) for word in text.lower().split()]\n",
    "    words = [morph.parse(word)[0].normal_form for word in words if word and word not in stops]\n",
    "\n",
    "    return words"
   ]
  },
  {
   "cell_type": "code",
   "execution_count": 44,
   "metadata": {},
   "outputs": [],
   "source": [
    "data['content_norm'] = data['content'].apply(normalize)"
   ]
  },
  {
   "cell_type": "markdown",
   "metadata": {},
   "source": [
    "визуализируем полученный корпус"
   ]
  },
  {
   "cell_type": "code",
   "execution_count": 52,
   "metadata": {},
   "outputs": [
    {
     "name": "stdout",
     "output_type": "stream",
     "text": [
      "<wordcloud.wordcloud.WordCloud object at 0x1a2f5a8f98>\n"
     ]
    },
    {
     "data": {
      "image/png": "[encoded data removed]",
      "text/plain": [
       "<Figure size 432x288 with 1 Axes>"
      ]
     },
     "metadata": {},
     "output_type": "display_data"
    }
   ],
   "source": [
    "from os import path\n",
    "from PIL import Image\n",
    "from wordcloud import WordCloud, STOPWORDS, ImageColorGenerator\n",
    "import matplotlib.pyplot as plt\n",
    "% matplotlib inline\n",
    "wordcloud = WordCloud(\n",
    "                          background_color='white',\n",
    "                          stopwords=stops,\n",
    "                          max_words=100,\n",
    "                          max_font_size=50, \n",
    "                          random_state=42\n",
    "                         ).generate(str(data['content_norm']))\n",
    "print(wordcloud)\n",
    "fig = plt.figure(1)\n",
    "plt.imshow(wordcloud)\n",
    "plt.axis('off')\n",
    "plt.show()\n",
    "fig.savefig(\"word1.png\", dpi=900)"
   ]
  },
  {
   "cell_type": "markdown",
   "metadata": {},
   "source": [
    "здесь мы визуализировали самые частые слова за исключением стоп-слов - можем попробовать включить некоторые из них в расширенный список стоп-слов"
   ]
  },
  {
   "cell_type": "code",
   "execution_count": 148,
   "metadata": {},
   "outputs": [],
   "source": [
    "new_stops = [\"год\", \"страна\", \"главный\", \"развитый\", \"март\", \"сегодня\", \"бумажный\", \"нынешний\", \"назад\", \"популярный\"]\n",
    "stops = stops.union(new_stops)"
   ]
  },
  {
   "cell_type": "code",
   "execution_count": 149,
   "metadata": {},
   "outputs": [],
   "source": [
    "from string import punctuation\n",
    "from nltk.corpus import stopwords\n",
    "punct = punctuation+'«»—…“”*№–'\n",
    "stops = set(stopwords.words('russian'))\n",
    "new_stops = [\"год\", \"страна\", \"главный\", \"развитый\", \"март\", \"сегодня\", \"бумажный\", \"нынешний\", \"назад\", \"популярный\"]\n",
    "stops = stops.union(new_stops)\n",
    "\n",
    "\n",
    "def normalize(text):\n",
    "    \n",
    "    words = [word.strip(punct) for word in text.lower().split()]\n",
    "    words = [morph.parse(word)[0] for word in words if word and word not in stops]\n",
    "    words = [word.inflect({'nomn'}).word for word in words if word.tag.POS == 'NOUN' or word.tag.POS == 'ADJF']\n",
    "\n",
    "    return words"
   ]
  },
  {
   "cell_type": "code",
   "execution_count": 150,
   "metadata": {},
   "outputs": [],
   "source": [
    "data['n_content_norm'] = data['content'].apply(normalize)"
   ]
  },
  {
   "cell_type": "code",
   "execution_count": 151,
   "metadata": {},
   "outputs": [],
   "source": [
    "def evaluate(true_kws, predicted_kws):\n",
    "    assert len(true_kws) == len(predicted_kws)\n",
    "    \n",
    "    precisions = []\n",
    "    recalls = []\n",
    "    f1s = []\n",
    "    jaccards = []\n",
    "    \n",
    "    for i in range(len(true_kws)):\n",
    "        true_kw = set(true_kws[i])\n",
    "        predicted_kw = set(predicted_kws[i])\n",
    "        \n",
    "        tp = len(true_kw & predicted_kw)\n",
    "        union = len(true_kw | predicted_kw)\n",
    "        fp = len(predicted_kw - true_kw)\n",
    "        fn = len(true_kw - predicted_kw)\n",
    "        \n",
    "        if (tp+fp) == 0:\n",
    "            prec = 0\n",
    "        else:\n",
    "            prec = tp / (tp + fp)\n",
    "        \n",
    "        if (tp+fn) == 0:\n",
    "            rec = 0\n",
    "        else:\n",
    "            rec = tp / (tp + fn)\n",
    "        if (prec+rec) == 0:\n",
    "            f1 = 0\n",
    "        else:\n",
    "            f1 = (2*(prec*rec))/(prec+rec)\n",
    "            \n",
    "        jac = tp / union\n",
    "        \n",
    "        precisions.append(prec)\n",
    "        recalls.append(rec)\n",
    "        f1s.append(f1)\n",
    "        jaccards.append(jac)\n",
    "    print('Precision - ', round(np.mean(precisions), 2))\n",
    "    print('Recall - ', round(np.mean(recalls), 2))\n",
    "    print('F1 - ', round(np.mean(f1s), 2))\n",
    "    print('Jaccard - ', round(np.mean(jaccards), 2))"
   ]
  },
  {
   "cell_type": "code",
   "execution_count": 152,
   "metadata": {},
   "outputs": [
    {
     "name": "stdout",
     "output_type": "stream",
     "text": [
      "Precision -  0.19\n",
      "Recall -  0.22\n",
      "F1 -  0.19\n",
      "Jaccard -  0.11\n"
     ]
    }
   ],
   "source": [
    "evaluate(data['keywords'], data['n_content_norm'].apply(lambda x: [x[0] for x in Counter(x).most_common(6)]))"
   ]
  },
  {
   "cell_type": "code",
   "execution_count": 153,
   "metadata": {},
   "outputs": [],
   "source": [
    "data['n_content_norm_str'] = data['n_content_norm'].apply(' '.join)"
   ]
  },
  {
   "cell_type": "code",
   "execution_count": 154,
   "metadata": {},
   "outputs": [],
   "source": [
    "# можно заодно сделать нграммы\n",
    "tfidf = TfidfVectorizer(ngram_range=(1,2), min_df=3)"
   ]
  },
  {
   "cell_type": "code",
   "execution_count": 155,
   "metadata": {},
   "outputs": [
    {
     "data": {
      "text/plain": [
       "TfidfVectorizer(analyzer='word', binary=False, decode_error='strict',\n",
       "        dtype=<class 'numpy.int64'>, encoding='utf-8', input='content',\n",
       "        lowercase=True, max_df=1.0, max_features=None, min_df=3,\n",
       "        ngram_range=(1, 2), norm='l2', preprocessor=None, smooth_idf=True,\n",
       "        stop_words=None, strip_accents=None, sublinear_tf=False,\n",
       "        token_pattern='(?u)\\\\b\\\\w\\\\w+\\\\b', tokenizer=None, use_idf=True,\n",
       "        vocabulary=None)"
      ]
     },
     "execution_count": 155,
     "metadata": {},
     "output_type": "execute_result"
    }
   ],
   "source": [
    "tfidf.fit(data['n_content_norm_str'])"
   ]
  },
  {
   "cell_type": "code",
   "execution_count": 156,
   "metadata": {},
   "outputs": [],
   "source": [
    "id2word = {i:word for i,word in enumerate(tfidf.get_feature_names())}"
   ]
  },
  {
   "cell_type": "code",
   "execution_count": 157,
   "metadata": {},
   "outputs": [],
   "source": [
    "texts_vectors = tfidf.transform(data['n_content_norm_str'])"
   ]
  },
  {
   "cell_type": "code",
   "execution_count": 158,
   "metadata": {},
   "outputs": [],
   "source": [
    "keywords = [[id2word[w] for w in top] for top in texts_vectors.toarray().argsort()[:,:-6:-1]] "
   ]
  },
  {
   "cell_type": "code",
   "execution_count": 159,
   "metadata": {},
   "outputs": [
    {
     "data": {
      "text/plain": [
       "[['ольга васильев', 'стандарты', 'васильев', 'ольга', 'историческое'],\n",
       " ['красота', 'отчаяние', 'ваша', 'кошка', 'плохой'],\n",
       " ['пепеляев', 'юзефович', 'якутия', 'книга', 'восстание']]"
      ]
     },
     "execution_count": 159,
     "metadata": {},
     "output_type": "execute_result"
    }
   ],
   "source": [
    "keywords[:3]"
   ]
  },
  {
   "cell_type": "code",
   "execution_count": 160,
   "metadata": {},
   "outputs": [
    {
     "name": "stdout",
     "output_type": "stream",
     "text": [
      "Precision -  0.2\n",
      "Recall -  0.19\n",
      "F1 -  0.19\n",
      "Jaccard -  0.11\n"
     ]
    }
   ],
   "source": [
    "evaluate(data['keywords'], keywords)"
   ]
  },
  {
   "cell_type": "markdown",
   "metadata": {},
   "source": [
    "все тот же неплохой результат"
   ]
  },
  {
   "cell_type": "code",
   "execution_count": 161,
   "metadata": {},
   "outputs": [],
   "source": [
    "from sklearn.feature_extraction.text import CountVectorizer\n",
    "import re\n",
    "cv=CountVectorizer(max_df=0.8,stop_words=stops, max_features=10000, ngram_range=(1,3))\n",
    "X=cv.fit_transform(data['n_content_norm_str'])"
   ]
  },
  {
   "cell_type": "code",
   "execution_count": 162,
   "metadata": {},
   "outputs": [
    {
     "data": {
      "text/plain": [
       "['среда',\n",
       " 'заседание',\n",
       " 'совет',\n",
       " 'федеральные',\n",
       " 'государственные',\n",
       " 'образовательный',\n",
       " 'стандарты',\n",
       " 'министерство',\n",
       " 'образование',\n",
       " 'наука']"
      ]
     },
     "execution_count": 162,
     "metadata": {},
     "output_type": "execute_result"
    }
   ],
   "source": [
    "list(cv.vocabulary_.keys())[:10]"
   ]
  },
  {
   "cell_type": "code",
   "execution_count": 89,
   "metadata": {},
   "outputs": [
    {
     "name": "stdout",
     "output_type": "stream",
     "text": [
      "  (0, 9968)\t0.022758860820445617\n",
      "  (0, 9949)\t0.09210566135049189\n",
      "  (0, 9840)\t0.03509011077553096\n",
      "  (0, 9792)\t0.024878563637533043\n",
      "  (0, 9663)\t0.12258516621599568\n",
      "  (0, 9606)\t0.04193858852364979\n",
      "  (0, 9601)\t0.019518334797999342\n",
      "  (0, 9600)\t0.07648563456876555\n",
      "  (0, 9593)\t0.029448045015287225\n",
      "  (0, 9517)\t0.026805889933940487\n",
      "  (0, 9476)\t0.03522765271866766\n",
      "  (0, 9323)\t0.034286540529456566\n",
      "  (0, 9321)\t0.022429592568931372\n",
      "  (0, 9269)\t0.025739944710295413\n",
      "  (0, 9261)\t0.04563029577931831\n",
      "  (0, 9223)\t0.0657919978923616\n",
      "  (0, 9220)\t0.034286540529456566\n",
      "  (0, 9217)\t0.0641848574002128\n",
      "  (0, 9216)\t0.04193858852364979\n",
      "  (0, 9211)\t0.020663525659124368\n",
      "  (0, 9208)\t0.017671171466041104\n",
      "  (0, 9137)\t0.03311085437275993\n",
      "  (0, 9088)\t0.07475793493254464\n",
      "  (0, 8851)\t0.0450755536808562\n",
      "  (0, 8817)\t0.02298654528833629\n",
      "  :\t:\n",
      "  (987, 957)\t0.03305648591738047\n",
      "  (987, 930)\t0.02154526016545619\n",
      "  (987, 901)\t0.033587972096663546\n",
      "  (987, 862)\t0.011934854970428939\n",
      "  (987, 852)\t0.028333658239265414\n",
      "  (987, 786)\t0.019358877744510096\n",
      "  (987, 770)\t0.053035950513299054\n",
      "  (987, 720)\t0.030249553186876606\n",
      "  (987, 667)\t0.0745807874106609\n",
      "  (987, 666)\t0.6187837545170927\n",
      "  (987, 665)\t0.11521217137406686\n",
      "  (987, 640)\t0.07106632640968494\n",
      "  (987, 594)\t0.03417014933673897\n",
      "  (987, 555)\t0.03305648591738047\n",
      "  (987, 541)\t0.025404311837291027\n",
      "  (987, 419)\t0.033587972096663546\n",
      "  (987, 397)\t0.03305648591738047\n",
      "  (987, 396)\t0.050272068645565444\n",
      "  (987, 201)\t0.028573227680685466\n",
      "  (987, 182)\t0.018502828795261928\n",
      "  (987, 162)\t0.023025368439162353\n",
      "  (987, 110)\t0.02237195729825637\n",
      "  (987, 48)\t0.02706534762894249\n",
      "  (987, 33)\t0.024339319892735477\n",
      "  (987, 17)\t0.019251712929664877\n"
     ]
    }
   ],
   "source": [
    "from sklearn.feature_extraction.text import TfidfTransformer\n",
    " \n",
    "tfidf_transformer=TfidfTransformer(smooth_idf=True,use_idf=True)\n",
    "tfidf_transformer.fit(X)\n",
    "\n",
    "feature_names=cv.get_feature_names()\n",
    " \n",
    "doc=data['n_content_norm_str']\n",
    " \n",
    "\n",
    "tf_idf_vector=tfidf_transformer.transform(cv.transform(doc))\n",
    "\n",
    "print(tf_idf_vector)"
   ]
  },
  {
   "cell_type": "code",
   "execution_count": 92,
   "metadata": {},
   "outputs": [
    {
     "data": {
      "text/plain": [
       "[['клуб', 'ковч', 'муссолини', 'муссолини', 'гавел']]"
      ]
     },
     "execution_count": 92,
     "metadata": {},
     "output_type": "execute_result"
    }
   ],
   "source": [
    "#сортируем tf_idf по убыванию\n",
    "from scipy.sparse import coo_matrix\n",
    "def sort_coo(coo_matrix):\n",
    "    tuples = zip(coo_matrix.col, coo_matrix.data)\n",
    "    return sorted(tuples, key=lambda x: (x[1], x[0]), reverse=True)\n",
    " \n",
    "def extract_topn_from_vector(feature_names, sorted_items, topn=10):\n",
    "    \"\"\"get the feature names and tf-idf score of top n items\"\"\"\n",
    "    \n",
    "    #используем topn элементов из вектора\n",
    "    sorted_items = sorted_items[:topn]\n",
    " \n",
    "    score_vals = []\n",
    "    feature_vals = []\n",
    "    \n",
    "    # индекс слова и tf-idf score\n",
    "    for idx, score in sorted_items:\n",
    "        \n",
    "        \n",
    "        score_vals.append(round(score, 3))\n",
    "        feature_vals.append(feature_names[idx])\n",
    " \n",
    "    \n",
    "    results= []\n",
    "    for idx in range(len(feature_vals)):\n",
    "        return feature_vals\n",
    "    \n",
    "    return results\n",
    "\n",
    "sorted_items=sort_coo(tf_idf_vector.tocoo())\n",
    "\n",
    "keywords=[extract_topn_from_vector(feature_names,sorted_items,5)]\n",
    " \n",
    "\n",
    "\n",
    "keywords[:9]"
   ]
  },
  {
   "cell_type": "code",
   "execution_count": null,
   "metadata": {},
   "outputs": [],
   "source": []
  }
 ],
 "metadata": {
  "kernelspec": {
   "display_name": "Python 3",
   "language": "python",
   "name": "python3"
  },
  "language_info": {
   "codemirror_mode": {
    "name": "ipython",
    "version": 3
   },
   "file_extension": ".py",
   "mimetype": "text/x-python",
   "name": "python",
   "nbconvert_exporter": "python",
   "pygments_lexer": "ipython3",
   "version": "3.6.5"
  }
 },
 "nbformat": 4,
 "nbformat_minor": 2
}
