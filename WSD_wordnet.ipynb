{
 "cells": [
  {
   "cell_type": "code",
   "execution_count": 196,
   "metadata": {},
   "outputs": [],
   "source": [
    "import pandas as pd\n",
    "from lxml import html\n",
    "import nltk\n",
    "from nltk.tokenize import word_tokenize\n",
    "from nltk.corpus import stopwords\n",
    "from nltk.corpus import wordnet as wn\n",
    "from nltk.wsd import lesk\n",
    "from pymorphy2 import MorphAnalyzer\n",
    "from string import punctuation\n",
    "import json, os\n",
    "from collections import Counter\n",
    "import numpy as np\n",
    "from sklearn.metrics import f1_score\n",
    "from sklearn.ensemble import RandomForestClassifier\n",
    "from sklearn.linear_model import LogisticRegression\n",
    "from sklearn.model_selection import train_test_split\n",
    "from sklearn.metrics import classification_report\n",
    "from sklearn.model_selection import KFold\n",
    "from matplotlib import pyplot as plt\n",
    "%matplotlib inline\n",
    "import warnings\n",
    "warnings.filterwarnings('ignore')\n",
    "morph = MorphAnalyzer()\n",
    "punct = punctuation+'«»—…“”*№–'\n",
    "stops = set(stopwords.words('russian'))"
   ]
  },
  {
   "cell_type": "code",
   "execution_count": 198,
   "metadata": {},
   "outputs": [],
   "source": [
    "#сегментируем текст на предложения \n",
    "sent_text = [nltk.sent_tokenize(text) for text in open('corpus_eng.txt')]"
   ]
  },
  {
   "cell_type": "code",
   "execution_count": 199,
   "metadata": {},
   "outputs": [],
   "source": [
    "#выбираем из всех предложений только те, в которых есть слово 'break'\n",
    "sent_w_target_word = []\n",
    "for lst in sent_text:\n",
    "    for st in lst:\n",
    "        st = st.split()\n",
    "        if 'break' in st:\n",
    "            sent_w_target_word.append(st)\n"
   ]
  },
  {
   "cell_type": "code",
   "execution_count": 42,
   "metadata": {},
   "outputs": [
    {
     "name": "stdout",
     "output_type": "stream",
     "text": [
      "['Those', 'who', 'break', 'the', 'law', 'are', 'punished', 'by', 'public', 'caning.']\n",
      "['For', 'the', 'lucky,', 'Thanksgiving', 'will', 'be', 'a', 'much-needed', 'break', 'from', 'the', 'relentless', 'news', 'cycle.']\n",
      "['On', 'Monday’s', 'Dancing', 'with', 'the', 'Stars', ',', 'Olympic', 'gymnast', 'Laurie', 'Hernandez', 'took', 'a', 'break', 'from', 'her', 'rehearsal', 'schedule', 'to', 'visit', 'her', 'ailing', 'grandmother.']\n",
      "['If', 'you', 'treat', 'your', 'lover', 'badly,', \"she's\", 'going', 'to', 'break', 'up', 'with', 'you.\"']\n",
      "['Taking', 'advantage', 'of', 'this', 'break', 'from', 'campaigning,', 'Knox', 'returned', 'to', 'Massachusetts', 'with', 'the', 'goal', 'of', 'improving', 'weapons', 'production.']\n",
      "['\"It', 'is', 'always', 'difficult', 'to', 'play', 'after', 'a', 'Europa', '[League]', 'game', 'because', 'of', 'the', '[short]', 'break', 'you', 'get', 'after', 'the', 'game,\"', 'he', 'said.']\n",
      "['About', '31,000', 'Tumblekins', 'toys', 'are', 'being', 'recalled', 'by', 'International', 'Playthings', 'as', 'the', 'toy', 'can', 'break', 'into', 'small', 'pieces', 'with', 'sharp', 'edges,', 'posing', 'a', 'laceration', 'hazard.', 'More', '»', '©Landscape', 'Structures']\n",
      "['Every', 'year,', 'workers', 'on', 'both', 'sides', 'of', 'the', 'camera', 'are', 'maimed,', 'burned,', 'break', 'bones', 'and', 'even', 'die', 'striving', 'to', 'deliver', 'entertainment', 'that', 'packs', 'multiplexes', 'and', 'commands', 'top', 'TV', 'ratings.']\n",
      "['Around', '7', 'months', 'after', 'the', 'break', 'up', 'I', 'met', 'the', 'girl', 'I', 'eventually', 'married,', 'I', 'love', 'her', 'dearly', 'which', 'leads', 'me', 'to', 'my', 'inner', 'turmoil.']\n",
      "['There’s', 'also', 'a', 'café', 'if', 'you', 'want', 'to', 'hang', 'out', 'for', 'a', 'while', 'and', 'take', 'a', 'break', 'on', 'your', 'shopping', 'trip.']\n"
     ]
    }
   ],
   "source": [
    "#рандомно выбираем 10 разных предложений, содержащих слово 'break'\n",
    "import random\n",
    "ten_sent_w_target_word = []\n",
    "for i in range(10):\n",
    "    rand_sent = random.choice(sent_w_target_word)\n",
    "    if rand_sent not in ten_sent_w_target_word:\n",
    "        ten_sent_w_target_word.append(rand_sent)\n",
    "        \n",
    "for c in ten_sent_w_target_word:\n",
    "    print(c)"
   ]
  },
  {
   "cell_type": "code",
   "execution_count": 29,
   "metadata": {},
   "outputs": [
    {
     "name": "stdout",
     "output_type": "stream",
     "text": [
      "-- Synset('interruption.n.02') -- some abrupt occurrence that interrupts an ongoing activity ['the telephone is an annoying interruption', 'there was a break in the action when a player was hurt']\n",
      "-- Synset('break.n.02') -- an unexpected piece of good luck ['he finally got his big break']\n",
      "-- Synset('fault.n.04') -- (geology) a crack in the earth's crust resulting from the displacement of one side with respect to the other ['they built it right over a geological fault', \"he studied the faulting of the earth's crust\"]\n",
      "-- Synset('rupture.n.02') -- a personal or social separation (as between opposing factions) ['they hoped to avoid a break in relations']\n",
      "-- Synset('respite.n.02') -- a pause from doing something (as work) ['we took a 10-minute break', 'he took time out to recuperate']\n",
      "-- Synset('breakage.n.03') -- the act of breaking something ['the breakage was unavoidable']\n",
      "-- Synset('pause.n.01') -- a time interval during which there is a temporary cessation of something []\n",
      "-- Synset('fracture.n.01') -- breaking of hard tissue such as bone ['it was a nasty fracture', 'the break seems to have been caused by a fall']\n",
      "-- Synset('break.n.09') -- the occurrence of breaking ['the break in the dam threatened the valley']\n",
      "-- Synset('break.n.10') -- an abrupt change in the tone or register of the voice (as at puberty or due to emotion) ['then there was a break in her voice']\n",
      "-- Synset('break.n.11') -- the opening shot that scatters the balls in billiards or pool []\n",
      "-- Synset('break.n.12') -- (tennis) a score consisting of winning a game when your opponent was serving ['he was up two breaks in the second set']\n",
      "-- Synset('break.n.13') -- an act of delaying or interrupting the continuity ['it was presented without commercial breaks', 'there was a gap in his account']\n",
      "-- Synset('break.n.14') -- a sudden dash ['he made a break for the open door']\n",
      "-- Synset('open_frame.n.01') -- any frame in which a bowler fails to make a strike or spare ['the break in the eighth frame cost him the match']\n",
      "-- Synset('break.n.16') -- an escape from jail ['the breakout was carefully planned']\n",
      "-- Synset('interrupt.v.04') -- terminate ['She interrupted her pregnancy', 'break a lucky streak', 'break the cycle of poverty']\n",
      "-- Synset('break.v.02') -- become separated into pieces or fragments ['The figurine broke', 'The freshly baked loaf fell apart']\n",
      "-- Synset('break.v.03') -- render inoperable or ineffective ['You broke the alarm clock when you took it apart!']\n",
      "-- Synset('break.v.04') -- ruin completely ['He busted my radio!']\n",
      "-- Synset('break.v.05') -- destroy the integrity of; usually by force; cause to separate into pieces or fragments ['He broke the glass plate', 'She broke the match']\n",
      "-- Synset('transgress.v.01') -- act in disregard of laws, rules, contracts, or promises ['offend all laws of humanity', 'violate the basic laws or human civilization', 'break a law', 'break a promise']\n",
      "-- Synset('break.v.07') -- move away or escape suddenly ['The horses broke from the stable', 'Three inmates broke jail', 'Nobody can break out--this prison is high security']\n",
      "-- Synset('break.v.08') -- scatter or part ['The clouds broke after the heavy downpour']\n",
      "-- Synset('break.v.09') -- force out or release suddenly and often violently something pent up ['break into tears', 'erupt in anger']\n",
      "-- Synset('break.v.10') -- prevent completion ['stop the project', 'break off the negotiations']\n",
      "-- Synset('break_in.v.01') -- enter someone's (virtual or real) property in an unauthorized manner, usually with the intent to steal or commit a violent act ['Someone broke in while I was on vacation', 'They broke into my car and stole my radio!', 'who broke into my account last night?']\n",
      "-- Synset('break_in.v.06') -- make submissive, obedient, or useful ['The horse was tough to break', 'I broke in the new intern']\n",
      "-- Synset('violate.v.01') -- fail to agree with; be in violation of; as of rules or patterns ['This sentence violates the rules of syntax']\n",
      "-- Synset('better.v.01') -- surpass in excellence ['She bettered her own record', 'break a record']\n",
      "-- Synset('unwrap.v.02') -- make known to the public information that was previously known only to a few people or that was meant to be kept a secret ['The auction house would not disclose the price at which the van Gogh had sold', \"The actress won't reveal how old she is\", 'bring out the truth', 'he broke the news to her', 'unwrap the evidence in the murder case']\n",
      "-- Synset('break.v.16') -- come into being ['light broke over the horizon', 'Voices broke in the air']\n",
      "-- Synset('fail.v.04') -- stop operating or functioning ['The engine finally went', 'The car died on the road', 'The bus we travelled in broke down on the way to town', 'The coffee maker broke', 'The engine failed on the way to town', 'her eyesight went after the accident']\n",
      "-- Synset('break.v.18') -- interrupt a continued activity ['She had broken with the traditional patterns']\n",
      "-- Synset('break.v.19') -- make a rupture in the ranks of the enemy or one's own by quitting or fleeing ['The ranks broke']\n",
      "-- Synset('break.v.20') -- curl over and fall apart in surf or foam, of waves ['The surf broke']\n",
      "-- Synset('dampen.v.07') -- lessen in force or effect ['soften a shock', 'break a fall']\n",
      "-- Synset('break.v.22') -- be broken in [\"If the new teacher won't break, we'll add some stress\"]\n",
      "-- Synset('break.v.23') -- come to an end ['The heat wave finally broke yesterday']\n",
      "-- Synset('break.v.24') -- vary or interrupt a uniformity or continuity ['The flat plain was broken by tall mesas']\n",
      "-- Synset('break.v.25') -- cause to give up a habit ['She finally broke herself of smoking cigarettes']\n",
      "-- Synset('break.v.26') -- give up ['break cigarette smoking']\n",
      "-- Synset('break.v.27') -- come forth or begin from a state of latency ['The first winter storm broke over New York']\n",
      "-- Synset('break.v.28') -- happen or take place ['Things have been breaking pretty well for us in the past few months']\n",
      "-- Synset('break.v.29') -- cause the failure or ruin of ['His peccadilloes finally broke his marriage', 'This play will either make or break the playwright']\n",
      "-- Synset('break.v.30') -- invalidate by judicial action ['The will was broken']\n",
      "-- Synset('separate.v.08') -- discontinue an association or relation; go different ways ['The business partners broke over a tax question', 'The couple separated after 25 years of marriage', 'My friend and I split up']\n",
      "-- Synset('demote.v.01') -- assign to a lower position; reduce in rank ['She was demoted because she always speaks up', 'He was broken down to Sergeant']\n",
      "-- Synset('bankrupt.v.01') -- reduce to bankruptcy [\"My daughter's fancy wedding is going to break me!\", 'The slump in the financial markets smashed him']\n",
      "-- Synset('break.v.34') -- change directions suddenly []\n",
      "-- Synset('break.v.35') -- emerge from the surface of a body of water ['The whales broke']\n",
      "-- Synset('collapse.v.01') -- break down, literally or metaphorically ['The wall collapsed', 'The business collapsed', 'The dam broke', 'The roof collapsed', 'The wall gave in', 'The roof finally gave under the weight of the ice']\n",
      "-- Synset('break_dance.v.01') -- do a break dance ['Kids were break-dancing at the street corner']\n",
      "-- Synset('break.v.38') -- exchange for smaller units of money ['I had to break a $100 bill just to buy the candy']\n",
      "-- Synset('break.v.39') -- destroy the completeness of a set of related items ['The book dealer would not break the set']\n",
      "-- Synset('break.v.40') -- make the opening shot that scatters the balls []\n",
      "-- Synset('break.v.41') -- separate from a clinch, in boxing ['The referee broke the boxers']\n",
      "-- Synset('break.v.42') -- go to pieces ['The lawn mower finally broke', 'The gears wore out', 'The old chair finally fell apart completely']\n",
      "-- Synset('break.v.43') -- break a piece from a whole ['break a branch from a tree']\n",
      "-- Synset('break.v.44') -- become punctured or penetrated ['The skin broke']\n",
      "-- Synset('break.v.45') -- pierce or penetrate ['The blade broke her skin']\n",
      "-- Synset('break.v.46') -- be released or become known; of news ['News of her death broke in the morning']\n",
      "-- Synset('pause.v.02') -- cease an action temporarily ['We pause for station identification', \"let's break for lunch\"]\n",
      "-- Synset('break.v.48') -- interrupt the flow of current in ['break a circuit']\n",
      "-- Synset('break.v.49') -- undergo breaking ['The simple vowels broke in many Germanic languages']\n",
      "-- Synset('break.v.50') -- find a flaw in ['break an alibi', 'break down a proof']\n",
      "-- Synset('break.v.51') -- find the solution or key to ['break the code']\n",
      "-- Synset('break.v.52') -- change suddenly from one tone quality or register to another ['Her voice broke to a whisper when she started to talk about her children']\n",
      "-- Synset('break.v.53') -- happen ['Report the news as it develops', 'These political movements recrudesce from time to time']\n",
      "-- Synset('crack.v.01') -- become fractured; break or crack on the surface only ['The glass cracked when it was heated']\n",
      "-- Synset('break.v.55') -- crack; of the male voice in puberty ['his voice is breaking--he should no longer sing in the choir']\n",
      "-- Synset('break.v.56') -- fall sharply ['stock prices broke']\n",
      "-- Synset('fracture.v.06') -- fracture a bone of ['I broke my foot while playing hockey']\n",
      "-- Synset('break.v.58') -- diminish or discontinue abruptly [\"The patient's fever broke last night\"]\n",
      "-- Synset('break.v.59') -- weaken or destroy in spirit or body ['His resistance was broken', 'a man broken by the terrible experience of near-death']\n"
     ]
    }
   ],
   "source": [
    "for synset in wn.synsets('break'):\n",
    "    print('--', synset, '--', synset.definition(), synset.examples())"
   ]
  },
  {
   "cell_type": "code",
   "execution_count": 22,
   "metadata": {},
   "outputs": [
    {
     "name": "stdout",
     "output_type": "stream",
     "text": [
      "1 Those who break the law are punished by public caning.\n",
      "2 For the lucky, Thanksgiving will be a much-needed break from the relentless news cycle.\n",
      "3 On Monday’s Dancing with the Stars , Olympic gymnast Laurie Hernandez took a break from her rehearsal schedule to visit her ailing grandmother.\n",
      "4 If you treat your lover badly, she's going to break up with you.\"\n",
      "5 Taking advantage of this break from campaigning, Knox returned to Massachusetts with the goal of improving weapons production.\n",
      "6 \"It is always difficult to play after a Europa [League] game because of the [short] break you get after the game,\" he said.\n",
      "7 About 31,000 Tumblekins toys are being recalled by International Playthings as the toy can break into small pieces with sharp edges, posing a laceration hazard. More » ©Landscape Structures\n",
      "8 Every year, workers on both sides of the camera are maimed, burned, break bones and even die striving to deliver entertainment that packs multiplexes and commands top TV ratings.\n",
      "9 Around 7 months after the break up I met the girl I eventually married, I love her dearly which leads me to my inner turmoil.\n",
      "10 There’s also a café if you want to hang out for a while and take a break on your shopping trip.\n"
     ]
    }
   ],
   "source": [
    "for i, c in enumerate(ten_sent_w_target_word):\n",
    "    print(i+1,' '.join(c))"
   ]
  },
  {
   "cell_type": "markdown",
   "metadata": {},
   "source": [
    "Попытаемся определить верные значения (создадим подобие золотого стандарта):\n",
    "    1. Synset('transgress.v.01')\n",
    "    2. Synset('pause.n.01')\n",
    "    3. Synset('respite.n.02')\n",
    "    4. Synset('separate.v.08')\n",
    "    5. Synset('pause.n.01'), Synset('interruption.n.02')\n",
    "    6. Synset('pause.n.01'), Synset('respite.n.02')\n",
    "    7. Synset('break.v.02')\n",
    "    8. Synset('fracture.v.06') \n",
    "    9. Synset('separate.v.08')\n",
    "    10. Synset('pause.n.01'), Synset('respite.n.02')"
   ]
  },
  {
   "cell_type": "markdown",
   "metadata": {},
   "source": [
    "Для начала определим стоп-слова, от которых будем очищать предложения и определения-примеры"
   ]
  },
  {
   "cell_type": "code",
   "execution_count": 31,
   "metadata": {},
   "outputs": [],
   "source": [
    "stopwords = ['a', 'an', 'any', 'is', 'and', 'about', 'across', 'against', 'along', 'around', 'at','behind', 'beside', 'besides', 'by', 'despite', 'down',\n",
    "            'ourselves', 'during', 'finally', 'for', 'from', 'in', 'inside', 'into', 'near', 'of', 'off', 'on', 'onto', 'over', 'through', 'to', 'toward',\n",
    "            'with', 'within', 'without', 'anything', 'everything', 'anyone', 'everyone', 'ones', 'such', 'it', 'itself', 'nor'\n",
    "            'something', 'nothing', 'some', 'someone', 'the', 'this', 'that', 'every', 'all', 'both', 'one', 'first', 'other',\n",
    "            'next', 'many', 'much', 'more', 'most', 'several', 'no', 'each', 'half', 'twice', 'two', 'second',\n",
    "            'another', 'last', 'few', 'little', 'less', 'least', 'own', 'but', 'after', 'when', 'as', 'because', 'if', 'what',\n",
    "            'we','where', 'which', 'how', 'than', 'or', 'so', 'before', 'since', 'while', 'although', 'though', 'who', 'whose', 'can', 'may',\n",
    "            'will', 'shall', 'could', 'be', 'do', 'have', 'might', 'would', 'should', 'must', 'here', 'there', 'now', 'then', 'always',\n",
    "            'never', 'sometimes', 'usually', 'often', 'therefore', 'however', 'besides', 'moreover', 'though', 'otherwise',\n",
    "            'else', 'instead', 'anyway', 'incidentally', 'meanwhile','i']\n"
   ]
  },
  {
   "cell_type": "markdown",
   "metadata": {},
   "source": [
    "Если честно, алгоритм Леска, который был предложен на паре, работал из рук вон плохо: во время тестирования он не определил верно значение слова 'break' ни в одном предложении -- я решила его переписать.\n",
    "\n",
    "### Эксперименты:\n",
    "\n",
    "- пробую исключить стоп-слова\n",
    "- в качестве контекста я использую не заданное окно, а всё предложение \n",
    "- сравниваю контекст слова не только с определениями синсетов, но и с примерами их употребления\n",
    "- включаю контексты не только значений слова, но и определение и примеры употреблений гипонимов каждого из значений\n",
    "- подключаю лемматизацию\n",
    "- пробую сравнивать контексты с учётом части речи"
   ]
  },
  {
   "cell_type": "markdown",
   "metadata": {},
   "source": [
    "### Лучший результат: 4(8)/10"
   ]
  },
  {
   "cell_type": "markdown",
   "metadata": {},
   "source": [
    "### Проблемы, с которыми связано использование алгоритма Леска для слова 'break':\n",
    "\n",
    "- слово многозначно (75 определений в WordNet!)\n",
    "- to break - фразовый глагол (значение меняется в засимости от разнообразных предлогов), а в WordNet'е многие из его значений не представлены\n",
    "- употребляется в самых разных контекстах, в том числе специфических - от геологии до спорта\n",
    "- в WordNet'е содержатся весьма короткие определения, примеры употребления тоже коротки и их немного (у некоторых значений и вовсе нет) \n",
    "- невелика вероятность того, что контексты слова из случайной выборки совпадут с определениями и ограниченным кругом примеров употребления из WordNet\n",
    "- нет возможности выделить pos-тег из леммы слова, а в определениях и примерах само слово может даже не употребляться - это ведёт к затруднениям при использования части речи в качестве ограничивающего признака "
   ]
  },
  {
   "cell_type": "markdown",
   "metadata": {},
   "source": [
    "## Алгоритм Леска"
   ]
  },
  {
   "cell_type": "markdown",
   "metadata": {},
   "source": [
    "### Контекст - всё предложение, исключение стоп-слов, контекст слова сравнивается с определениями и примерами употребления каждого из значений"
   ]
  },
  {
   "cell_type": "code",
   "execution_count": 35,
   "metadata": {},
   "outputs": [
    {
     "name": "stdout",
     "output_type": "stream",
     "text": [
      "-- Synset('transgress.v.01') -- Those who break the law are punished by public caning.\n",
      "-- Synset('interruption.n.02') -- For the lucky, Thanksgiving will be a much-needed break from the relentless news cycle.\n",
      "-- Synset('respite.n.02') -- On Monday’s Dancing with the Stars , Olympic gymnast Laurie Hernandez took a break from her rehearsal schedule to visit her ailing grandmother.\n",
      "-- Synset('break.n.12') -- If you treat your lover badly, she's going to break up with you.\"\n",
      "-- Synset('interruption.n.02') -- Taking advantage of this break from campaigning, Knox returned to Massachusetts with the goal of improving weapons production.\n",
      "-- Synset('break.n.02') -- \"It is always difficult to play after a Europa [League] game because of the [short] break you get after the game,\" he said.\n",
      "-- Synset('interruption.n.02') -- About 31,000 Tumblekins toys are being recalled by International Playthings as the toy can break into small pieces with sharp edges, posing a laceration hazard. More » ©Landscape Structures\n",
      "-- Synset('interruption.n.02') -- Every year, workers on both sides of the camera are maimed, burned, break bones and even die striving to deliver entertainment that packs multiplexes and commands top TV ratings.\n",
      "-- Synset('break.n.10') -- Around 7 months after the break up I met the girl I eventually married, I love her dearly which leads me to my inner turmoil.\n",
      "-- Synset('respite.n.02') -- There’s also a café if you want to hang out for a while and take a break on your shopping trip.\n"
     ]
    }
   ],
   "source": [
    "def context_intersection(synset, sentence):\n",
    "    cont_def = set(word_tokenize(synset.definition()))\n",
    "    cont_def = cont_def.difference(stopwords)\n",
    "    cont_ex = set(word_tokenize(' '.join(synset.examples())))\n",
    "    cont_ex = cont_ex.difference(stopwords)\n",
    "    cont_synset = cont_ex.union(cont_def)\n",
    "    \n",
    "    sentence = set(sentence)\n",
    "    sentence = sentence.difference(stopwords)\n",
    "    return len(cont_synset.intersection(sentence))\n",
    "\n",
    "def lesk(word, sentence):\n",
    "    bestsense = None\n",
    "    maxoverlap = 0\n",
    "    word = wn.morphy(word) if wn.morphy(word) is not None else word\n",
    "    for meaning in wn.synsets(word):\n",
    "        overlap = context_intersection(meaning,sentence)\n",
    "        #for hyp in meaning.hyponyms():\n",
    "            #overlap += context_intersection(hyp, sentence)\n",
    "        if overlap > maxoverlap:\n",
    "                maxoverlap = overlap\n",
    "                bestsense = meaning\n",
    "    return bestsense\n",
    "    \n",
    "    \n",
    "word = 'break'\n",
    "\n",
    "for c in ten_sent_w_target_word:\n",
    "    a = lesk(word, c)\n",
    "    print('--', a, '--', ' '.join(c))"
   ]
  },
  {
   "cell_type": "markdown",
   "metadata": {},
   "source": [
    "1. **идеальное попадание**\n",
    "2. **очень близко по смыслу**\n",
    "3. **идеальное попадание**\n",
    "4. мимо\n",
    "5. **идеальное попадание**\n",
    "6. **очень близко по смыслу** \n",
    "7. мимо\n",
    "8. мимо\n",
    "9. мимо\n",
    "10. **идеальное попадание**\n",
    "\n",
    "**Итого 4(6)/10**"
   ]
  },
  {
   "cell_type": "markdown",
   "metadata": {},
   "source": [
    "Значение 'interruption.n.02' весьма популярно, потому что у него присутствует сам глагол 'break' в определениях; \n",
    "4, 7, 8, 9 - в этих предложениях есть слова, не имеющие отношения к получившимся значениям слова break, но встречающиеся в определениях/примерах.\n",
    "Контексты гораздо более специфичные и разнообразные, чем примеры в WordNet (а у некоторых значений примеров вообще нет!)"
   ]
  },
  {
   "cell_type": "markdown",
   "metadata": {},
   "source": [
    "### + включаю контексты не только значений слова, но и определение и примеры употреблений гипонимов каждого из значений"
   ]
  },
  {
   "cell_type": "code",
   "execution_count": 36,
   "metadata": {},
   "outputs": [
    {
     "name": "stdout",
     "output_type": "stream",
     "text": [
      "-- Synset('transgress.v.01') -- Those who break the law are punished by public caning.\n",
      "-- Synset('break.v.02') -- For the lucky, Thanksgiving will be a much-needed break from the relentless news cycle.\n",
      "-- Synset('break.v.02') -- On Monday’s Dancing with the Stars , Olympic gymnast Laurie Hernandez took a break from her rehearsal schedule to visit her ailing grandmother.\n",
      "-- Synset('separate.v.08') -- If you treat your lover badly, she's going to break up with you.\"\n",
      "-- Synset('break.v.02') -- Taking advantage of this break from campaigning, Knox returned to Massachusetts with the goal of improving weapons production.\n",
      "-- Synset('pause.n.01') -- \"It is always difficult to play after a Europa [League] game because of the [short] break you get after the game,\" he said.\n",
      "-- Synset('break.v.05') -- About 31,000 Tumblekins toys are being recalled by International Playthings as the toy can break into small pieces with sharp edges, posing a laceration hazard. More » ©Landscape Structures\n",
      "-- Synset('fracture.n.01') -- Every year, workers on both sides of the camera are maimed, burned, break bones and even die striving to deliver entertainment that packs multiplexes and commands top TV ratings.\n",
      "-- Synset('separate.v.08') -- Around 7 months after the break up I met the girl I eventually married, I love her dearly which leads me to my inner turmoil.\n",
      "-- Synset('pause.v.02') -- There’s also a café if you want to hang out for a while and take a break on your shopping trip.\n"
     ]
    }
   ],
   "source": [
    "def context_intersection(synset, sentence):\n",
    "    cont_def = set(word_tokenize(synset.definition()))\n",
    "    cont_def = cont_def.difference(stopwords)\n",
    "    cont_ex = set(word_tokenize(' '.join(synset.examples())))\n",
    "    cont_ex = cont_ex.difference(stopwords)\n",
    "    cont_synset = cont_ex.union(cont_def)\n",
    "    \n",
    "    sentence = set(sentence)\n",
    "    sentence = sentence.difference(stopwords)\n",
    "    return len(cont_synset.intersection(sentence))\n",
    "\n",
    "def lesk(word, sentence):\n",
    "    bestsense = None\n",
    "    maxoverlap = 0\n",
    "    word = wn.morphy(word) if wn.morphy(word) is not None else word\n",
    "    for meaning in wn.synsets(word):\n",
    "        overlap = context_intersection(meaning,sentence)\n",
    "        for hyp in meaning.hyponyms():\n",
    "            overlap += context_intersection(hyp, sentence)\n",
    "        if overlap > maxoverlap:\n",
    "                maxoverlap = overlap\n",
    "                bestsense = meaning\n",
    "    return bestsense\n",
    "    \n",
    "\n",
    "word = 'break'\n",
    "\n",
    "for c in ten_sent_w_target_word:\n",
    "    a = lesk(word, c)\n",
    "    print('--', a, '--', ' '.join(c))"
   ]
  },
  {
   "cell_type": "markdown",
   "metadata": {},
   "source": [
    "1. **идеальное попадание**\n",
    "2. мимо\n",
    "3. мимо\n",
    "4. **идеальное попадание**\n",
    "5. мимо\n",
    "6. **идеальное попадание**\n",
    "7. **очень близко по смыслу** \n",
    "8. **очень близко по смыслу** (не та часть речи)\n",
    "9. **идеальное попадание**\n",
    "10. **очень близко по смыслу** (не та часть речи)\n",
    "\n",
    "**Итого 4(7)/10**"
   ]
  },
  {
   "cell_type": "markdown",
   "metadata": {},
   "source": [
    "Очень любопытный результат: с учётом гипонимов алгоритм исправил предыдущие ошибки, но 'слетел' на том, что было неплохо определено до этого. Если бы губы Никанора Ивановича да приставить к носу Ивана Кузьмича... Видно, что сейчас превосходно определяется значение 'separate.v.08' (то есть связанное с расставанием, разрывом отношений): оба случая пойманы. Все грубые ошибки связаны с выдачей значения 'break.v.02'(у него довольно много гипонимов, у которых, в свою очередь есть несколько примеров употребления) - алгоритм цепляется за другие слова. 8, 10 - результат, очень близкий к правде (в 8 должно быть 'fracture.v.06' - получили 'fracture.n.01'; в 10 должно быть 'pause.n.01' - получили 'pause.v.02'), лишь часть речи определена неверно (возможно, поможет pos-теггинг). Стоит еще ввести лемматизацию, так как в некоторых примерах употребление есть 'broke' - возможно, приведя всё к одной форме, мы выровняем баланс значений."
   ]
  },
  {
   "cell_type": "markdown",
   "metadata": {},
   "source": [
    "### Пробую подключить лемматизацию"
   ]
  },
  {
   "cell_type": "code",
   "execution_count": null,
   "metadata": {},
   "outputs": [],
   "source": [
    "#создаём функцию для лемматизации\n",
    "from nltk.stem import WordNetLemmatizer\n",
    "wl = WordNetLemmatizer()\n",
    "\n",
    "def normalize(text):\n",
    "    \n",
    "    words = [word.strip(punct).lower() for word in text]\n",
    "    w = [wl.lemmatize(word) for word in words if word]\n",
    "\n",
    "    return w"
   ]
  },
  {
   "cell_type": "code",
   "execution_count": 44,
   "metadata": {},
   "outputs": [
    {
     "name": "stdout",
     "output_type": "stream",
     "text": [
      "-- Synset('transgress.v.01') -- Those who break the law are punished by public caning.\n",
      "-- Synset('break.v.02') -- For the lucky, Thanksgiving will be a much-needed break from the relentless news cycle.\n",
      "-- Synset('pause.v.02') -- On Monday’s Dancing with the Stars , Olympic gymnast Laurie Hernandez took a break from her rehearsal schedule to visit her ailing grandmother.\n",
      "-- Synset('separate.v.08') -- If you treat your lover badly, she's going to break up with you.\"\n",
      "-- Synset('break.v.02') -- Taking advantage of this break from campaigning, Knox returned to Massachusetts with the goal of improving weapons production.\n",
      "-- Synset('break.v.05') -- \"It is always difficult to play after a Europa [League] game because of the [short] break you get after the game,\" he said.\n",
      "-- Synset('break.v.05') -- About 31,000 Tumblekins toys are being recalled by International Playthings as the toy can break into small pieces with sharp edges, posing a laceration hazard. More » ©Landscape Structures\n",
      "-- Synset('fracture.n.01') -- Every year, workers on both sides of the camera are maimed, burned, break bones and even die striving to deliver entertainment that packs multiplexes and commands top TV ratings.\n",
      "-- Synset('separate.v.08') -- Around 7 months after the break up I met the girl I eventually married, I love her dearly which leads me to my inner turmoil.\n",
      "-- Synset('pause.v.02') -- There’s also a café if you want to hang out for a while and take a break on your shopping trip.\n"
     ]
    }
   ],
   "source": [
    "def context_intersection(synset, sentence):\n",
    "    cont_def = normalize(word_tokenize(synset.definition()))\n",
    "    cont_def = set(cont_def)\n",
    "    cont_def = cont_def.difference(stopwords)\n",
    "    cont_ex = normalize(word_tokenize(' '.join(synset.examples())))\n",
    "    cont_ex = set(cont_ex)\n",
    "    cont_ex = cont_ex.difference(stopwords)\n",
    "    cont_synset = cont_ex.union(cont_def)\n",
    "    \n",
    "    sentence = normalize(sentence)\n",
    "    sentence = set(sentence)\n",
    "    sentence = sentence.difference(stopwords)\n",
    "    return len(cont_synset.intersection(sentence))\n",
    "\n",
    "def lesk(word, sentence):\n",
    "    bestsense = None\n",
    "    maxoverlap = 0\n",
    "    word = wn.morphy(word) if wn.morphy(word) is not None else word\n",
    "    for meaning in wn.synsets(word):\n",
    "        overlap = context_intersection(meaning,sentence)\n",
    "        for hyp in meaning.hyponyms():\n",
    "            overlap += context_intersection(hyp, sentence)\n",
    "        if overlap > maxoverlap:\n",
    "                maxoverlap = overlap\n",
    "                bestsense = meaning\n",
    "    return bestsense\n",
    "    \n",
    "\n",
    "word = 'break'\n",
    "\n",
    "for c in ten_sent_w_target_word:\n",
    "    a = lesk(word, c)\n",
    "    print('--', a, '--', ' '.join(c))"
   ]
  },
  {
   "cell_type": "markdown",
   "metadata": {},
   "source": [
    "1. **идеальное попадание**\n",
    "2. мимо\n",
    "3. **очень близко по смыслу** (не та часть речи)\n",
    "4. **идеальное попадание**\n",
    "5. мимо\n",
    "6. мимо\n",
    "7. **очень близко по смыслу** \n",
    "8. **очень близко по смыслу** (не та часть речи)\n",
    "9. **идеальное попадание**\n",
    "10. **очень близко по смыслу** (не та часть речи)\n",
    "\n",
    "**Итого 3(7)/10**"
   ]
  },
  {
   "cell_type": "markdown",
   "metadata": {},
   "source": [
    "2, 5 - снова ошибка, связанная с выдачей значения 'break.v.02'(у него довольно много гипонимов, у которых, в свою очередь есть несколько примеров употребления) - алгоритм цепляется за другие слова. 6, 7 - снова алгоритм цепляется за пересекающиеся слова, которые, тем не менее не соответствуют значению 'break' (вновь упираемся в ограниченность примеров и определений WordNet'а): 'difficult', 'pieces', 'sharp', 'game' действительно есть в 'break.v.05' и его гиперонимах - увы, значение определить они не помогают. В остальных случаях ошибки связаны, в основном, с неверно определённой частью речи."
   ]
  },
  {
   "cell_type": "markdown",
   "metadata": {},
   "source": [
    "### С лемматизацией, но без включения гипонимов"
   ]
  },
  {
   "cell_type": "code",
   "execution_count": 45,
   "metadata": {},
   "outputs": [
    {
     "name": "stdout",
     "output_type": "stream",
     "text": [
      "-- Synset('transgress.v.01') -- Those who break the law are punished by public caning.\n",
      "-- Synset('interrupt.v.04') -- For the lucky, Thanksgiving will be a much-needed break from the relentless news cycle.\n",
      "-- Synset('respite.n.02') -- On Monday’s Dancing with the Stars , Olympic gymnast Laurie Hernandez took a break from her rehearsal schedule to visit her ailing grandmother.\n",
      "-- Synset('break.n.12') -- If you treat your lover badly, she's going to break up with you.\"\n",
      "-- Synset('interruption.n.02') -- Taking advantage of this break from campaigning, Knox returned to Massachusetts with the goal of improving weapons production.\n",
      "-- Synset('break.n.12') -- \"It is always difficult to play after a Europa [League] game because of the [short] break you get after the game,\" he said.\n",
      "-- Synset('break.n.02') -- About 31,000 Tumblekins toys are being recalled by International Playthings as the toy can break into small pieces with sharp edges, posing a laceration hazard. More » ©Landscape Structures\n",
      "-- Synset('fracture.n.01') -- Every year, workers on both sides of the camera are maimed, burned, break bones and even die striving to deliver entertainment that packs multiplexes and commands top TV ratings.\n",
      "-- Synset('bankrupt.v.01') -- Around 7 months after the break up I met the girl I eventually married, I love her dearly which leads me to my inner turmoil.\n",
      "-- Synset('respite.n.02') -- There’s also a café if you want to hang out for a while and take a break on your shopping trip.\n"
     ]
    }
   ],
   "source": [
    "def context_intersection(synset, sentence):\n",
    "    cont_def = normalize(word_tokenize(synset.definition()))\n",
    "    cont_def = set(cont_def)\n",
    "    cont_def = cont_def.difference(stopwords)\n",
    "    cont_ex = normalize(word_tokenize(' '.join(synset.examples())))\n",
    "    cont_ex = set(cont_ex)\n",
    "    cont_ex = cont_ex.difference(stopwords)\n",
    "    cont_synset = cont_ex.union(cont_def)\n",
    "    \n",
    "    sentence = normalize(sentence)\n",
    "    sentence = set(sentence)\n",
    "    sentence = sentence.difference(stopwords)\n",
    "    return len(cont_synset.intersection(sentence))\n",
    "\n",
    "def lesk(word, sentence):\n",
    "    bestsense = None\n",
    "    maxoverlap = 0\n",
    "    word = wn.morphy(word) if wn.morphy(word) is not None else word\n",
    "    for meaning in wn.synsets(word):\n",
    "        overlap = context_intersection(meaning,sentence)\n",
    "        #for hyp in meaning.hyponyms():\n",
    "            #overlap += context_intersection(hyp, sentence)\n",
    "        if overlap > maxoverlap:\n",
    "                maxoverlap = overlap\n",
    "                bestsense = meaning\n",
    "    return bestsense\n",
    "    \n",
    "\n",
    "word = 'break'\n",
    "\n",
    "for c in ten_sent_w_target_word:\n",
    "    a = lesk(word, c)\n",
    "    print('--', a, '--', ' '.join(c))"
   ]
  },
  {
   "cell_type": "markdown",
   "metadata": {},
   "source": [
    "1. **идеальное попадание**\n",
    "2. мимо\n",
    "3. **идеальное попадание**\n",
    "4. мимо\n",
    "5. **идеальное попадание**\n",
    "6. мимо\n",
    "7. мимо\n",
    "8. **очень близко по смыслу** (не та часть речи)\n",
    "9. мимо\n",
    "10. **идеальное попадание**\n",
    "\n",
    "**Итого 4(5)/10**"
   ]
  },
  {
   "cell_type": "markdown",
   "metadata": {},
   "source": [
    "И, вроде бы, точных попаданий стало на 1 больше, однако улавливание общего смысла (если не учитывать часть речи) ухудшилось. "
   ]
  },
  {
   "cell_type": "markdown",
   "metadata": {},
   "source": [
    "### Пробую учитывать часть речи "
   ]
  },
  {
   "cell_type": "code",
   "execution_count": 62,
   "metadata": {},
   "outputs": [
    {
     "name": "stdout",
     "output_type": "stream",
     "text": [
      "[nltk_data] Downloading package averaged_perceptron_tagger to\n",
      "[nltk_data]     /Users/dariabakshandaeva/nltk_data...\n",
      "[nltk_data]   Unzipping taggers/averaged_perceptron_tagger.zip.\n"
     ]
    }
   ],
   "source": [
    "import nltk\n",
    "nltk.download('averaged_perceptron_tagger')\n",
    "from nltk import pos_tag"
   ]
  },
  {
   "cell_type": "code",
   "execution_count": 189,
   "metadata": {},
   "outputs": [],
   "source": [
    "#тегируем наши 10 предложений\n",
    "sent_pos = []\n",
    "for i in ten_sent_w_target_word:\n",
    "    i_pos = nltk.pos_tag(i)\n",
    "    sent_pos.append(i_pos)"
   ]
  },
  {
   "cell_type": "code",
   "execution_count": 191,
   "metadata": {},
   "outputs": [
    {
     "data": {
      "text/plain": [
       "[['those',\n",
       "  'who',\n",
       "  'break_VBP',\n",
       "  'the',\n",
       "  'law',\n",
       "  'are',\n",
       "  'punished',\n",
       "  'by',\n",
       "  'public',\n",
       "  'caning.'],\n",
       " ['for',\n",
       "  'the',\n",
       "  'lucky,',\n",
       "  'thanksgiving',\n",
       "  'will',\n",
       "  'be',\n",
       "  'a',\n",
       "  'much-needed',\n",
       "  'break_NN',\n",
       "  'from',\n",
       "  'the',\n",
       "  'relentless',\n",
       "  'news',\n",
       "  'cycle.'],\n",
       " ['on',\n",
       "  'monday’s',\n",
       "  'dancing',\n",
       "  'with',\n",
       "  'the',\n",
       "  'stars',\n",
       "  ',',\n",
       "  'olympic',\n",
       "  'gymnast',\n",
       "  'laurie',\n",
       "  'hernandez',\n",
       "  'took',\n",
       "  'a',\n",
       "  'break_NN',\n",
       "  'from',\n",
       "  'her',\n",
       "  'rehearsal',\n",
       "  'schedule',\n",
       "  'to',\n",
       "  'visit',\n",
       "  'her',\n",
       "  'ailing',\n",
       "  'grandmother.'],\n",
       " ['if',\n",
       "  'you',\n",
       "  'treat',\n",
       "  'your',\n",
       "  'lover',\n",
       "  'badly,',\n",
       "  \"she's\",\n",
       "  'going',\n",
       "  'to',\n",
       "  'break_VB',\n",
       "  'up',\n",
       "  'with',\n",
       "  'you.\"'],\n",
       " ['taking',\n",
       "  'advantage',\n",
       "  'of',\n",
       "  'this',\n",
       "  'break_NN',\n",
       "  'from',\n",
       "  'campaigning,',\n",
       "  'knox',\n",
       "  'returned',\n",
       "  'to',\n",
       "  'massachusetts',\n",
       "  'with',\n",
       "  'the',\n",
       "  'goal',\n",
       "  'of',\n",
       "  'improving',\n",
       "  'weapons',\n",
       "  'production.'],\n",
       " ['\"it',\n",
       "  'is',\n",
       "  'always',\n",
       "  'difficult',\n",
       "  'to',\n",
       "  'play',\n",
       "  'after',\n",
       "  'a',\n",
       "  'europa',\n",
       "  '[league]',\n",
       "  'game',\n",
       "  'because',\n",
       "  'of',\n",
       "  'the',\n",
       "  '[short]',\n",
       "  'break_NN',\n",
       "  'you',\n",
       "  'get',\n",
       "  'after',\n",
       "  'the',\n",
       "  'game,\"',\n",
       "  'he',\n",
       "  'said.'],\n",
       " ['about',\n",
       "  '31,000',\n",
       "  'tumblekins',\n",
       "  'toys',\n",
       "  'are',\n",
       "  'being',\n",
       "  'recalled',\n",
       "  'by',\n",
       "  'international',\n",
       "  'playthings',\n",
       "  'as',\n",
       "  'the',\n",
       "  'toy',\n",
       "  'can',\n",
       "  'break_VB',\n",
       "  'into',\n",
       "  'small',\n",
       "  'pieces',\n",
       "  'with',\n",
       "  'sharp',\n",
       "  'edges,',\n",
       "  'posing',\n",
       "  'a',\n",
       "  'laceration',\n",
       "  'hazard.',\n",
       "  'more',\n",
       "  '»',\n",
       "  '©landscape',\n",
       "  'structures'],\n",
       " ['every',\n",
       "  'year,',\n",
       "  'workers',\n",
       "  'on',\n",
       "  'both',\n",
       "  'sides',\n",
       "  'of',\n",
       "  'the',\n",
       "  'camera',\n",
       "  'are',\n",
       "  'maimed,',\n",
       "  'burned,',\n",
       "  'break_NN',\n",
       "  'bones',\n",
       "  'and',\n",
       "  'even',\n",
       "  'die',\n",
       "  'striving',\n",
       "  'to',\n",
       "  'deliver',\n",
       "  'entertainment',\n",
       "  'that',\n",
       "  'packs',\n",
       "  'multiplexes',\n",
       "  'and',\n",
       "  'commands',\n",
       "  'top',\n",
       "  'tv',\n",
       "  'ratings.'],\n",
       " ['around',\n",
       "  '7',\n",
       "  'months',\n",
       "  'after',\n",
       "  'the',\n",
       "  'break_NN',\n",
       "  'up',\n",
       "  'i',\n",
       "  'met',\n",
       "  'the',\n",
       "  'girl',\n",
       "  'i',\n",
       "  'eventually',\n",
       "  'married,',\n",
       "  'i',\n",
       "  'love',\n",
       "  'her',\n",
       "  'dearly',\n",
       "  'which',\n",
       "  'leads',\n",
       "  'me',\n",
       "  'to',\n",
       "  'my',\n",
       "  'inner',\n",
       "  'turmoil.'],\n",
       " ['there’s',\n",
       "  'also',\n",
       "  'a',\n",
       "  'café',\n",
       "  'if',\n",
       "  'you',\n",
       "  'want',\n",
       "  'to',\n",
       "  'hang',\n",
       "  'out',\n",
       "  'for',\n",
       "  'a',\n",
       "  'while',\n",
       "  'and',\n",
       "  'take',\n",
       "  'a',\n",
       "  'break_NN',\n",
       "  'on',\n",
       "  'your',\n",
       "  'shopping',\n",
       "  'trip.']]"
      ]
     },
     "execution_count": 191,
     "metadata": {},
     "output_type": "execute_result"
    }
   ],
   "source": [
    "def break_pos_tag(s):\n",
    "\n",
    "    sent_break_pos = []\n",
    "\n",
    "    for word in s:\n",
    "        if word[0].lower() == 'break':\n",
    "            sent_break_pos.append(word[0].lower() +'_'+ word[1])\n",
    "        else:\n",
    "            sent_break_pos.append(word[0].lower())\n",
    "    return sent_break_pos\n",
    "\n",
    "#оставляем теги только у слова 'break'\n",
    "ten_sent_break_pos = []\n",
    "for i in sent_pos:\n",
    "    i_pos = break_pos_tag(i)\n",
    "    ten_sent_break_pos.append(i_pos)\n",
    "    \n",
    "ten_sent_break_pos\n"
   ]
  },
  {
   "cell_type": "code",
   "execution_count": 192,
   "metadata": {},
   "outputs": [
    {
     "name": "stdout",
     "output_type": "stream",
     "text": [
      "-- Synset('transgress.v.01') -- those who break_VBP the law are punished by public caning.\n",
      "-- Synset('unwrap.v.02') -- for the lucky, thanksgiving will be a much-needed break_NN from the relentless news cycle.\n",
      "-- Synset('pause.v.02') -- on monday’s dancing with the stars , olympic gymnast laurie hernandez took a break_NN from her rehearsal schedule to visit her ailing grandmother.\n",
      "-- Synset('separate.v.08') -- if you treat your lover badly, she's going to break_VB up with you.\"\n",
      "-- Synset('break.n.14') -- taking advantage of this break_NN from campaigning, knox returned to massachusetts with the goal of improving weapons production.\n",
      "-- Synset('pause.n.01') -- \"it is always difficult to play after a europa [league] game because of the [short] break_NN you get after the game,\" he said.\n",
      "-- Synset('break.v.05') -- about 31,000 tumblekins toys are being recalled by international playthings as the toy can break_VB into small pieces with sharp edges, posing a laceration hazard. more » ©landscape structures\n",
      "-- Synset('fracture.n.01') -- every year, workers on both sides of the camera are maimed, burned, break_NN bones and even die striving to deliver entertainment that packs multiplexes and commands top tv ratings.\n",
      "-- Synset('separate.v.08') -- around 7 months after the break_NN up i met the girl i eventually married, i love her dearly which leads me to my inner turmoil.\n",
      "-- Synset('pause.v.02') -- there’s also a café if you want to hang out for a while and take a break_NN on your shopping trip.\n"
     ]
    }
   ],
   "source": [
    "#тегируем слово 'break' в определениях и примерах употребления синсетов, потом применяем алгоритм Леска \n",
    "def context_intersection(synset, sentence):\n",
    "    cont_def = normalize(word_tokenize(synset.definition()))\n",
    "    cont_def = break_tag(nltk.pos_tag(cont_def))\n",
    "    cont_def = set(cont_def)\n",
    "    cont_def = cont_def.difference(stopwords)\n",
    "    cont_ex = normalize(word_tokenize(' '.join(synset.examples())))\n",
    "    cont_ex = break_tag(nltk.pos_tag(cont_ex))\n",
    "    cont_ex = set(cont_ex)\n",
    "    cont_ex = cont_ex.difference(stopwords)\n",
    "    cont_synset = cont_ex.union(cont_def)\n",
    "    \n",
    "    sentence = normalize(sentence)\n",
    "    sentence = set(sentence)\n",
    "    sentence = sentence.difference(stopwords)\n",
    "    return len(cont_synset.intersection(sentence))\n",
    "\n",
    "def lesk(word, sentence):\n",
    "    bestsense = None\n",
    "    maxoverlap = 0\n",
    "    word = wn.morphy(word) if wn.morphy(word) is not None else word\n",
    "    for meaning in wn.synsets(word):\n",
    "        overlap = context_intersection(meaning,sentence)\n",
    "        for hyp in meaning.hyponyms():\n",
    "            overlap += context_intersection(hyp, sentence)\n",
    "        if overlap > maxoverlap:\n",
    "                maxoverlap = overlap\n",
    "                bestsense = meaning\n",
    "    return bestsense\n",
    "    \n",
    "\n",
    "word = 'break'\n",
    "\n",
    "for c in ten_sent_break_pos:\n",
    "    a = lesk(word, c)\n",
    "    print('--', a, '--', ' '.join(c))"
   ]
  },
  {
   "cell_type": "markdown",
   "metadata": {},
   "source": [
    "1. **идеальное попадание**\n",
    "2. мимо\n",
    "3. **очень близко по смыслу** (не та часть речи)\n",
    "4. **идеальное попадание**\n",
    "5. мимо\n",
    "6. **идеальное попадание**\n",
    "7. **очень близко по смыслу**\n",
    "8. **очень близко по смыслу** (не та часть речи - pos-тэггер неверно определил, в том числе) \n",
    "9. **идеальное попадание**\n",
    "10. **очень близко по смыслу** (не та часть речи)\n",
    "\n",
    "**Итого 4(8)/10**"
   ]
  },
  {
   "cell_type": "markdown",
   "metadata": {},
   "source": [
    "В WordNet нет возможности выделить pos-тег из леммы слова, а в определениях и примерах само слово может даже не употребляться - это ведёт к затруднениям при использования части речи в качестве ограничивающего признака. Теггер NLTK, к тому же, не идеален - мы имеем возможность наблюдать его ошибку в случае с 'break bones'. В общем, с проблемой несоответствия части речи это нам мало помогло. "
   ]
  },
  {
   "cell_type": "markdown",
   "metadata": {},
   "source": [
    "### Учитываю часть речи, не исключаю стоп-слова, учитываю гипонимы"
   ]
  },
  {
   "cell_type": "code",
   "execution_count": 193,
   "metadata": {},
   "outputs": [
    {
     "name": "stdout",
     "output_type": "stream",
     "text": [
      "-- Synset('fracture.n.01') -- those who break_VBP the law are punished by public caning.\n",
      "-- Synset('pause.n.01') -- for the lucky, thanksgiving will be a much-needed break_NN from the relentless news cycle.\n",
      "-- Synset('fracture.n.01') -- on monday’s dancing with the stars , olympic gymnast laurie hernandez took a break_NN from her rehearsal schedule to visit her ailing grandmother.\n",
      "-- Synset('separate.v.08') -- if you treat your lover badly, she's going to break_VB up with you.\"\n",
      "-- Synset('fracture.n.01') -- taking advantage of this break_NN from campaigning, knox returned to massachusetts with the goal of improving weapons production.\n",
      "-- Synset('pause.n.01') -- \"it is always difficult to play after a europa [league] game because of the [short] break_NN you get after the game,\" he said.\n",
      "-- Synset('break.v.02') -- about 31,000 tumblekins toys are being recalled by international playthings as the toy can break_VB into small pieces with sharp edges, posing a laceration hazard. more » ©landscape structures\n",
      "-- Synset('fracture.n.01') -- every year, workers on both sides of the camera are maimed, burned, break_NN bones and even die striving to deliver entertainment that packs multiplexes and commands top tv ratings.\n",
      "-- Synset('separate.v.08') -- around 7 months after the break_NN up i met the girl i eventually married, i love her dearly which leads me to my inner turmoil.\n",
      "-- Synset('unwrap.v.02') -- there’s also a café if you want to hang out for a while and take a break_NN on your shopping trip.\n"
     ]
    }
   ],
   "source": [
    "#тегируем слово 'break' в определениях и примерах употребления синсетов, потом применяем алгоритм Леска \n",
    "def context_intersection(synset, sentence):\n",
    "    cont_def = normalize(word_tokenize(synset.definition()))\n",
    "    cont_def = break_tag(nltk.pos_tag(cont_def))\n",
    "    cont_def = set(cont_def)\n",
    "    #cont_def = cont_def.difference(stopwords)\n",
    "    cont_ex = normalize(word_tokenize(' '.join(synset.examples())))\n",
    "    cont_ex = break_tag(nltk.pos_tag(cont_ex))\n",
    "    cont_ex = set(cont_ex)\n",
    "    #cont_ex = cont_ex.difference(stopwords)\n",
    "    cont_synset = cont_ex.union(cont_def)\n",
    "    \n",
    "    sentence = normalize(sentence)\n",
    "    sentence = set(sentence)\n",
    "    #sentence = sentence.difference(stopwords)\n",
    "    return len(cont_synset.intersection(sentence))\n",
    "\n",
    "def lesk(word, sentence):\n",
    "    bestsense = None\n",
    "    maxoverlap = 0\n",
    "    word = wn.morphy(word) if wn.morphy(word) is not None else word\n",
    "    for meaning in wn.synsets(word):\n",
    "        overlap = context_intersection(meaning,sentence)\n",
    "        for hyp in meaning.hyponyms():\n",
    "            overlap += context_intersection(hyp, sentence)\n",
    "        if overlap > maxoverlap:\n",
    "                maxoverlap = overlap\n",
    "                bestsense = meaning\n",
    "    return bestsense\n",
    "    \n",
    "\n",
    "word = 'break'\n",
    "\n",
    "for c in ten_sent_break_pos:\n",
    "    a = lesk(word, c)\n",
    "    print('--', a, '--', ' '.join(c))"
   ]
  },
  {
   "cell_type": "markdown",
   "metadata": {},
   "source": [
    "### Учитываю часть речи, не исключаю стоп-слова, не учитываю гипонимы"
   ]
  },
  {
   "cell_type": "code",
   "execution_count": 194,
   "metadata": {},
   "outputs": [
    {
     "name": "stdout",
     "output_type": "stream",
     "text": [
      "-- Synset('fracture.n.01') -- those who break_VBP the law are punished by public caning.\n",
      "-- Synset('interrupt.v.04') -- for the lucky, thanksgiving will be a much-needed break_NN from the relentless news cycle.\n",
      "-- Synset('fault.n.04') -- on monday’s dancing with the stars , olympic gymnast laurie hernandez took a break_NN from her rehearsal schedule to visit her ailing grandmother.\n",
      "-- Synset('fault.n.04') -- if you treat your lover badly, she's going to break_VB up with you.\"\n",
      "-- Synset('fault.n.04') -- taking advantage of this break_NN from campaigning, knox returned to massachusetts with the goal of improving weapons production.\n",
      "-- Synset('fault.n.04') -- \"it is always difficult to play after a europa [league] game because of the [short] break_NN you get after the game,\" he said.\n",
      "-- Synset('break.v.05') -- about 31,000 tumblekins toys are being recalled by international playthings as the toy can break_VB into small pieces with sharp edges, posing a laceration hazard. more » ©landscape structures\n",
      "-- Synset('fault.n.04') -- every year, workers on both sides of the camera are maimed, burned, break_NN bones and even die striving to deliver entertainment that packs multiplexes and commands top tv ratings.\n",
      "-- Synset('separate.v.08') -- around 7 months after the break_NN up i met the girl i eventually married, i love her dearly which leads me to my inner turmoil.\n",
      "-- Synset('break_in.v.01') -- there’s also a café if you want to hang out for a while and take a break_NN on your shopping trip.\n"
     ]
    }
   ],
   "source": [
    "#тегируем слово 'break' в определениях и примерах употребления синсетов, потом применяем алгоритм Леска \n",
    "def context_intersection(synset, sentence):\n",
    "    cont_def = normalize(word_tokenize(synset.definition()))\n",
    "    cont_def = break_tag(nltk.pos_tag(cont_def))\n",
    "    cont_def = set(cont_def)\n",
    "    #cont_def = cont_def.difference(stopwords)\n",
    "    cont_ex = normalize(word_tokenize(' '.join(synset.examples())))\n",
    "    cont_ex = break_tag(nltk.pos_tag(cont_ex))\n",
    "    cont_ex = set(cont_ex)\n",
    "    #cont_ex = cont_ex.difference(stopwords)\n",
    "    cont_synset = cont_ex.union(cont_def)\n",
    "    \n",
    "    sentence = normalize(sentence)\n",
    "    sentence = set(sentence)\n",
    "    #sentence = sentence.difference(stopwords)\n",
    "    return len(cont_synset.intersection(sentence))\n",
    "\n",
    "def lesk(word, sentence):\n",
    "    bestsense = None\n",
    "    maxoverlap = 0\n",
    "    word = wn.morphy(word) if wn.morphy(word) is not None else word\n",
    "    for meaning in wn.synsets(word):\n",
    "        overlap = context_intersection(meaning,sentence)\n",
    "        #for hyp in meaning.hyponyms():\n",
    "            #overlap += context_intersection(hyp, sentence)\n",
    "        if overlap > maxoverlap:\n",
    "                maxoverlap = overlap\n",
    "                bestsense = meaning\n",
    "    return bestsense\n",
    "    \n",
    "\n",
    "word = 'break'\n",
    "\n",
    "for c in ten_sent_break_pos:\n",
    "    a = lesk(word, c)\n",
    "    print('--', a, '--', ' '.join(c))"
   ]
  },
  {
   "cell_type": "markdown",
   "metadata": {},
   "source": [
    "Почти всё захватило значение 'fault.n.04' (по всей видимости, с ним помогали справиться стоп-слова). Кажется, пора остановиться, пока не провалились в 'a crack in the earth's crust'."
   ]
  }
 ],
 "metadata": {
  "kernelspec": {
   "display_name": "Python 3",
   "language": "python",
   "name": "python3"
  },
  "language_info": {
   "codemirror_mode": {
    "name": "ipython",
    "version": 3
   },
   "file_extension": ".py",
   "mimetype": "text/x-python",
   "name": "python",
   "nbconvert_exporter": "python",
   "pygments_lexer": "ipython3",
   "version": "3.6.5"
  }
 },
 "nbformat": 4,
 "nbformat_minor": 2
}
